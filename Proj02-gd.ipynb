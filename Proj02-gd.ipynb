{
 "cells": [
  {
   "metadata": {},
   "cell_type": "markdown",
   "source": "# Confusion Matrix, Accuracy, Precision, Recall, F1-Score",
   "id": "d5bf60ccba057678"
  },
  {
   "metadata": {},
   "cell_type": "markdown",
   "source": "## Import Libraries",
   "id": "5bc897a4a81f7d1f"
  },
  {
   "metadata": {
    "ExecuteTime": {
     "end_time": "2024-11-28T13:32:49.527819Z",
     "start_time": "2024-11-28T13:32:49.399243Z"
    }
   },
   "cell_type": "code",
   "source": "import numpy as np",
   "id": "c931cbb49da02590",
   "outputs": [],
   "execution_count": 2
  },
  {
   "metadata": {},
   "cell_type": "markdown",
   "source": [
    "## Set Parameters and Generate Data\n",
    "* Real data for samples containing \"patients\", \"healthy\" and \"suspects\" with equal numbers from each group.\n",
    "* Data containing the predicted results by a machine from the same groups. These results are also equal in number and relative composition from each group.\n",
    "* This Data is generated from `exampleNumber` by `np.random.choice()` function. Both Data (Real and Predict) are checked to meet some requirements."
   ],
   "id": "4d968d0f989f7fb1"
  },
  {
   "metadata": {
    "ExecuteTime": {
     "end_time": "2024-11-28T13:32:53.091651Z",
     "start_time": "2024-11-28T13:32:49.529816Z"
    }
   },
   "cell_type": "code",
   "source": [
    "exampleNumber = 30 \n",
    "grpNum = exampleNumber / 3\n",
    "result = {'TP':0,'TN':0,'FP':0,'FN':0}\n",
    "while result['TP'] < 0.7*grpNum or result['TN'] < 1.3*grpNum:\n",
    "    X = np.arange(1,exampleNumber+1)\n",
    "    y0 = np.random.choice(['ill', 'healthy','suspect'], replace=False, size=3)\n",
    "    y = np.repeat(y0,grpNum)\n",
    "    predict = np.random.choice(y0, size=exampleNumber, replace=True, p=[0.334, 0.333, 0.333])\n",
    "    code = np.random.choice([0,1,2], replace=False, size=3)\n",
    "    dic = {'healthy':code[0],'suspect':code[1],'ill':code[2]}\n",
    "    y = np.array([dic[x] for x in y])\n",
    "    predict = np.array([dic[x] for x in predict])\n",
    "    if dic['ill'] == 0: case = 'ill'\n",
    "    elif dic['healthy'] == 0: case = 'healthy'\n",
    "    else: case = 'suspect'\n",
    "    result['TP'], result['TN'], result['FP'], result['FN'] = 0,0,0,0\n",
    "    for a,b in zip(y,predict):\n",
    "        for c in code:\n",
    "            if a == b and a == c:\n",
    "                result['TP'] += 1 if c == 0 else 0\n",
    "                result['TN'] += 1 if c != 0 else 0\n",
    "            elif a != b and a == c:\n",
    "                result['FP'] += 1 if c == 0 else 0\n",
    "                result['FN'] += 1 if c != 0 else 0"
   ],
   "id": "7ed3521607e9688d",
   "outputs": [],
   "execution_count": 3
  },
  {
   "metadata": {},
   "cell_type": "markdown",
   "source": "## Calculation of indicators and test results",
   "id": "28ce01c37afb00ba"
  },
  {
   "metadata": {
    "ExecuteTime": {
     "end_time": "2024-11-28T13:32:53.098280Z",
     "start_time": "2024-11-28T13:32:53.092650Z"
    }
   },
   "cell_type": "code",
   "source": [
    "print(f'Result: {result} with Case:{case.upper()}')\n",
    "print('-'*50)\n",
    "P = result['TP'] + result['FP']\n",
    "N = result['TN'] + result['FN']\n",
    "TPR = result['TP'] / (result['TP'] + result['FN'])  #Recall\n",
    "FPR = result['FP'] / (result['TP'] + result['FP'])\n",
    "Precision = result['TP'] / (result['TP'] + result['FP'])\n",
    "Accuracy = (result['TP'] + result['TN']) / (P + N)\n",
    "print(f'TPR: {TPR}')\n",
    "print(f'FPR: {FPR}')\n",
    "print(f'Precision: {Precision}')\n",
    "print(f'Accuracy: {Accuracy}')\n",
    "F1_Score = 2 / (1 / TPR + 1 / Precision)\n",
    "print(f'F1_Score: {F1_Score}')"
   ],
   "id": "eb363774477cfe3b",
   "outputs": [
    {
     "name": "stdout",
     "output_type": "stream",
     "text": [
      "Result: {'TP': 7, 'TN': 14, 'FP': 3, 'FN': 6} with Case:SUSPECT\n",
      "--------------------------------------------------\n",
      "TPR: 0.5384615384615384\n",
      "FPR: 0.3\n",
      "Precision: 0.7\n",
      "Accuracy: 0.7\n",
      "F1_Score: 0.6086956521739131\n"
     ]
    }
   ],
   "execution_count": 4
  },
  {
   "metadata": {
    "ExecuteTime": {
     "end_time": "2024-11-28T13:32:53.102631Z",
     "start_time": "2024-11-28T13:32:53.099291Z"
    }
   },
   "cell_type": "code",
   "source": "",
   "id": "64ac500c8c4fe8ec",
   "outputs": [],
   "execution_count": 4
  }
 ],
 "metadata": {
  "kernelspec": {
   "display_name": "Python 3",
   "language": "python",
   "name": "python3"
  },
  "language_info": {
   "codemirror_mode": {
    "name": "ipython",
    "version": 2
   },
   "file_extension": ".py",
   "mimetype": "text/x-python",
   "name": "python",
   "nbconvert_exporter": "python",
   "pygments_lexer": "ipython2",
   "version": "2.7.6"
  }
 },
 "nbformat": 4,
 "nbformat_minor": 5
}
